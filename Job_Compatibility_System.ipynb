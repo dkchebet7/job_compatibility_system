{
  "nbformat": 4,
  "nbformat_minor": 0,
  "metadata": {
    "kernelspec": {
      "display_name": "Python 3",
      "language": "python",
      "name": "python3"
    },
    "language_info": {
      "codemirror_mode": {
        "name": "ipython",
        "version": 3
      },
      "file_extension": ".py",
      "mimetype": "text/x-python",
      "name": "python",
      "nbconvert_exporter": "python",
      "pygments_lexer": "ipython3",
      "version": "3.7.3"
    },
    "colab": {
      "name": "Job Compatibility System.ipynb",
      "provenance": [],
      "include_colab_link": true
    }
  },
  "cells": [
    {
      "cell_type": "markdown",
      "metadata": {
        "id": "view-in-github",
        "colab_type": "text"
      },
      "source": [
        "<a href=\"https://colab.research.google.com/github/dkchebet7/job_compatibility_system/blob/main/Job_Compatibility_System.ipynb\" target=\"_parent\"><img src=\"https://colab.research.google.com/assets/colab-badge.svg\" alt=\"Open In Colab\"/></a>"
      ]
    },
    {
      "cell_type": "markdown",
      "metadata": {
        "id": "HRi_QyXBq2T9"
      },
      "source": [
        "#### Importing Necessary Libraries"
      ]
    },
    {
      "cell_type": "code",
      "metadata": {
        "id": "vkboK_vcq2T-"
      },
      "source": [
        "import pandas as pd\n",
        "import numpy as np\n",
        "import matplotlib.pyplot as plt\n",
        "%matplotlib inline\n",
        "# \n",
        "import re\n",
        "import nltk\n",
        "import string\n",
        "from nltk.stem import WordNetLemmatizer\n",
        "from nltk import word_tokenize\n",
        "from nltk.corpus import stopwords"
      ],
      "execution_count": null,
      "outputs": []
    },
    {
      "cell_type": "code",
      "metadata": {
        "id": "qnMjzT6Wq2UD"
      },
      "source": [
        "# Our datasets are stored in an excel file with different sheets\n",
        "# First, we'll read the dataset and then create dataframes from the differents sheets\n",
        "\n",
        "df = pd.ExcelFile('Capstone Project Data Set.xlsx')\n",
        "candidates_df = pd.read_excel(df, 'Candidates')\n",
        "job_df = pd.read_excel(df, 'Job Details')"
      ],
      "execution_count": null,
      "outputs": []
    },
    {
      "cell_type": "code",
      "metadata": {
        "id": "Rh3Vvn1lq2UI"
      },
      "source": [
        "# Creating a function that will clean the column names\n",
        "\n",
        "def cleaned_columns(dataframe):\n",
        "    dataframe.columns = dataframe.columns.str.lower().str.replace(' ', '_')"
      ],
      "execution_count": null,
      "outputs": []
    },
    {
      "cell_type": "code",
      "metadata": {
        "id": "qB_UH-LJq2UL",
        "outputId": "7d8d73c4-64d6-44c9-b745-3ecf59e33484"
      },
      "source": [
        "# Applying the function to the job details dataframe\n",
        "cleaned_columns(job_df)\n",
        "job_df.columns"
      ],
      "execution_count": null,
      "outputs": [
        {
          "output_type": "execute_result",
          "data": {
            "text/plain": [
              "Index(['job_id', 'job_title', 'keywords', 'minimum_experience_in_years',\n",
              "       'maximum_experience_in_years', 'minimum_annual_salary',\n",
              "       'maximum_annual_salary', 'currency', 'must_haves', 'company_name',\n",
              "       'founded_year', 'employee_count', 'job_location', 'industry',\n",
              "       'function', 'required_education_(ug)', 'required_education_(pg)',\n",
              "       'notice_period_(days)'],\n",
              "      dtype='object')"
            ]
          },
          "metadata": {
            "tags": []
          },
          "execution_count": 4
        }
      ]
    },
    {
      "cell_type": "code",
      "metadata": {
        "id": "-vA3j1yvq2UP",
        "outputId": "ec329a6e-e087-4086-ffa6-055788dc5054"
      },
      "source": [
        "# Applying the function to the candidates dataframe\n",
        "cleaned_columns(candidates_df)\n",
        "candidates_df.columns"
      ],
      "execution_count": null,
      "outputs": [
        {
          "output_type": "execute_result",
          "data": {
            "text/plain": [
              "Index(['candidate_id', 'location', 'current_annual_salary',\n",
              "       'current_salary_currency_', 'current_salary_type',\n",
              "       'expected_annual_salary', 'expected_salary_currency',\n",
              "       'total_experience_in_years', 'current_industry', 'current_fuction',\n",
              "       'relocation_cities_', 'notice_period_in_days', 'current_job_title',\n",
              "       'data_source'],\n",
              "      dtype='object')"
            ]
          },
          "metadata": {
            "tags": []
          },
          "execution_count": 5
        }
      ]
    },
    {
      "cell_type": "code",
      "metadata": {
        "id": "iCe8_Benq2US",
        "outputId": "5a98cf8b-d080-43b0-c863-fe261469f828"
      },
      "source": [
        "# Checking for null values in the dataframes\n",
        "\n",
        "candidates_df.isnull().sum()"
      ],
      "execution_count": null,
      "outputs": [
        {
          "output_type": "execute_result",
          "data": {
            "text/plain": [
              "candidate_id                    0\n",
              "location                       82\n",
              "current_annual_salary        1687\n",
              "current_salary_currency_     3405\n",
              "current_salary_type             1\n",
              "expected_annual_salary       1115\n",
              "expected_salary_currency      577\n",
              "total_experience_in_years     525\n",
              "current_industry                0\n",
              "current_fuction              1243\n",
              "relocation_cities_           6804\n",
              "notice_period_in_days        2852\n",
              "current_job_title             442\n",
              "data_source                     0\n",
              "dtype: int64"
            ]
          },
          "metadata": {
            "tags": []
          },
          "execution_count": 6
        }
      ]
    },
    {
      "cell_type": "code",
      "metadata": {
        "id": "gu-1hBEpq2UV",
        "outputId": "b9f8a0f2-0c62-4180-9b14-e51489de702c"
      },
      "source": [
        "job_df.isnull().sum()"
      ],
      "execution_count": null,
      "outputs": [
        {
          "output_type": "execute_result",
          "data": {
            "text/plain": [
              "job_id                         0\n",
              "job_title                      0\n",
              "keywords                       1\n",
              "minimum_experience_in_years    0\n",
              "maximum_experience_in_years    0\n",
              "minimum_annual_salary          0\n",
              "maximum_annual_salary          0\n",
              "currency                       0\n",
              "must_haves                     1\n",
              "company_name                   0\n",
              "founded_year                   0\n",
              "employee_count                 0\n",
              "job_location                   0\n",
              "industry                       0\n",
              "function                       0\n",
              "required_education_(ug)        0\n",
              "required_education_(pg)        3\n",
              "notice_period_(days)           0\n",
              "dtype: int64"
            ]
          },
          "metadata": {
            "tags": []
          },
          "execution_count": 7
        }
      ]
    },
    {
      "cell_type": "markdown",
      "metadata": {
        "id": "hQRxNFRUq2Uc"
      },
      "source": [
        "#### Processing the Job details Dataframe"
      ]
    },
    {
      "cell_type": "code",
      "metadata": {
        "id": "KhkTpvX3q2Ud",
        "outputId": "96a3d34c-8491-4d0f-f0e9-eff95e86b1c2"
      },
      "source": [
        "# Previewing the DataFrame\n",
        "job_df"
      ],
      "execution_count": null,
      "outputs": [
        {
          "output_type": "execute_result",
          "data": {
            "text/html": [
              "<div>\n",
              "<style scoped>\n",
              "    .dataframe tbody tr th:only-of-type {\n",
              "        vertical-align: middle;\n",
              "    }\n",
              "\n",
              "    .dataframe tbody tr th {\n",
              "        vertical-align: top;\n",
              "    }\n",
              "\n",
              "    .dataframe thead th {\n",
              "        text-align: right;\n",
              "    }\n",
              "</style>\n",
              "<table border=\"1\" class=\"dataframe\">\n",
              "  <thead>\n",
              "    <tr style=\"text-align: right;\">\n",
              "      <th></th>\n",
              "      <th>job_id</th>\n",
              "      <th>job_title</th>\n",
              "      <th>keywords</th>\n",
              "      <th>minimum_experience_in_years</th>\n",
              "      <th>maximum_experience_in_years</th>\n",
              "      <th>minimum_annual_salary</th>\n",
              "      <th>maximum_annual_salary</th>\n",
              "      <th>currency</th>\n",
              "      <th>must_haves</th>\n",
              "      <th>company_name</th>\n",
              "      <th>founded_year</th>\n",
              "      <th>employee_count</th>\n",
              "      <th>job_location</th>\n",
              "      <th>industry</th>\n",
              "      <th>function</th>\n",
              "      <th>required_education_(ug)</th>\n",
              "      <th>required_education_(pg)</th>\n",
              "      <th>notice_period_(days)</th>\n",
              "    </tr>\n",
              "  </thead>\n",
              "  <tbody>\n",
              "    <tr>\n",
              "      <th>0</th>\n",
              "      <td>194</td>\n",
              "      <td>Full stack engineer</td>\n",
              "      <td>java,Angular,Jquery,j2ee,microservices,micro s...</td>\n",
              "      <td>2</td>\n",
              "      <td>5</td>\n",
              "      <td>6</td>\n",
              "      <td>15</td>\n",
              "      <td>INR</td>\n",
              "      <td>NaN</td>\n",
              "      <td>Company X</td>\n",
              "      <td>2011</td>\n",
              "      <td>362</td>\n",
              "      <td>Hyderabad</td>\n",
              "      <td>IT | Computer Software</td>\n",
              "      <td>IT Software</td>\n",
              "      <td>B.Tech/B.E.</td>\n",
              "      <td>NaN</td>\n",
              "      <td>60</td>\n",
              "    </tr>\n",
              "    <tr>\n",
              "      <th>1</th>\n",
              "      <td>481</td>\n",
              "      <td>Senior Java Engineer/Tech Lead</td>\n",
              "      <td>J2EE,Java,Hibernate,Webervices,REST Services,S...</td>\n",
              "      <td>7</td>\n",
              "      <td>10</td>\n",
              "      <td>10</td>\n",
              "      <td>15</td>\n",
              "      <td>INR</td>\n",
              "      <td>Should have proficient Java server side progra...</td>\n",
              "      <td>Company X</td>\n",
              "      <td>2011</td>\n",
              "      <td>362</td>\n",
              "      <td>Hyderabad</td>\n",
              "      <td>IT | Computer Software</td>\n",
              "      <td>IT Software</td>\n",
              "      <td>Other UG</td>\n",
              "      <td>Not Required</td>\n",
              "      <td>30</td>\n",
              "    </tr>\n",
              "    <tr>\n",
              "      <th>2</th>\n",
              "      <td>839</td>\n",
              "      <td>Front End Developer</td>\n",
              "      <td>NaN</td>\n",
              "      <td>2</td>\n",
              "      <td>5</td>\n",
              "      <td>4</td>\n",
              "      <td>8</td>\n",
              "      <td>INR</td>\n",
              "      <td>The candidate must have at least 2 years of so...</td>\n",
              "      <td>Company X</td>\n",
              "      <td>2011</td>\n",
              "      <td>362</td>\n",
              "      <td>Bengaluru/Bangalore</td>\n",
              "      <td>IT | Information Technology and Services</td>\n",
              "      <td>IT Software</td>\n",
              "      <td>Undergraduate (engineering)</td>\n",
              "      <td>NaN</td>\n",
              "      <td>30</td>\n",
              "    </tr>\n",
              "    <tr>\n",
              "      <th>3</th>\n",
              "      <td>723</td>\n",
              "      <td>Application Developer</td>\n",
              "      <td>c#, asp.net, sql, java, html5</td>\n",
              "      <td>3</td>\n",
              "      <td>8</td>\n",
              "      <td>4</td>\n",
              "      <td>9</td>\n",
              "      <td>INR</td>\n",
              "      <td>The Application Developer is a role within the...</td>\n",
              "      <td>Company X</td>\n",
              "      <td>2011</td>\n",
              "      <td>362</td>\n",
              "      <td>Bengaluru</td>\n",
              "      <td>IT | Information Technology and Services</td>\n",
              "      <td>IT Software</td>\n",
              "      <td>B.Tech/B.E.</td>\n",
              "      <td>NaN</td>\n",
              "      <td>30</td>\n",
              "    </tr>\n",
              "  </tbody>\n",
              "</table>\n",
              "</div>"
            ],
            "text/plain": [
              "   job_id                       job_title  \\\n",
              "0     194             Full stack engineer   \n",
              "1     481  Senior Java Engineer/Tech Lead   \n",
              "2     839             Front End Developer   \n",
              "3     723           Application Developer   \n",
              "\n",
              "                                            keywords  \\\n",
              "0  java,Angular,Jquery,j2ee,microservices,micro s...   \n",
              "1  J2EE,Java,Hibernate,Webervices,REST Services,S...   \n",
              "2                                                NaN   \n",
              "3                      c#, asp.net, sql, java, html5   \n",
              "\n",
              "   minimum_experience_in_years  maximum_experience_in_years  \\\n",
              "0                            2                            5   \n",
              "1                            7                           10   \n",
              "2                            2                            5   \n",
              "3                            3                            8   \n",
              "\n",
              "   minimum_annual_salary  maximum_annual_salary currency  \\\n",
              "0                      6                     15      INR   \n",
              "1                     10                     15      INR   \n",
              "2                      4                      8      INR   \n",
              "3                      4                      9      INR   \n",
              "\n",
              "                                          must_haves company_name  \\\n",
              "0                                                NaN    Company X   \n",
              "1  Should have proficient Java server side progra...    Company X   \n",
              "2  The candidate must have at least 2 years of so...    Company X   \n",
              "3  The Application Developer is a role within the...    Company X   \n",
              "\n",
              "   founded_year  employee_count         job_location  \\\n",
              "0          2011             362            Hyderabad   \n",
              "1          2011             362            Hyderabad   \n",
              "2          2011             362  Bengaluru/Bangalore   \n",
              "3          2011             362           Bengaluru    \n",
              "\n",
              "                                   industry     function  \\\n",
              "0                    IT | Computer Software  IT Software   \n",
              "1                    IT | Computer Software  IT Software   \n",
              "2  IT | Information Technology and Services  IT Software   \n",
              "3  IT | Information Technology and Services  IT Software   \n",
              "\n",
              "       required_education_(ug) required_education_(pg)  notice_period_(days)  \n",
              "0                  B.Tech/B.E.                     NaN                    60  \n",
              "1                     Other UG            Not Required                    30  \n",
              "2  Undergraduate (engineering)                     NaN                    30  \n",
              "3                  B.Tech/B.E.                     NaN                    30  "
            ]
          },
          "metadata": {
            "tags": []
          },
          "execution_count": 8
        }
      ]
    },
    {
      "cell_type": "code",
      "metadata": {
        "id": "PwkK3_ZFq2Uf"
      },
      "source": [
        "# Filling the null values in the 'required_education' column using the \n",
        "# forward fill and back fill method\n",
        "\n",
        "job_df['required_education_(pg)'] = job_df['required_education_(pg)'].ffill().bfill()\n"
      ],
      "execution_count": null,
      "outputs": []
    },
    {
      "cell_type": "code",
      "metadata": {
        "id": "DRPBE8ZEq2Ui"
      },
      "source": [
        "# Filling the null value in the 'keywords' column \n",
        "# We will use common skills associated with Front End Developers sourced from \n",
        "# the internet\n",
        "# We assign these skills to a variable x\n",
        "x = ('html,javascript,jquery,javascrit,css,bootstrap,version control,git,gui')\n",
        "job_df['keywords'].fillna(x, inplace = True)"
      ],
      "execution_count": null,
      "outputs": []
    },
    {
      "cell_type": "code",
      "metadata": {
        "id": "0w9SdIktq2Um",
        "outputId": "3bab30c4-bcc6-4ca9-bba7-38071d826e75"
      },
      "source": [
        "# Creating a copy of this job details dataframe and call it job\n",
        "job = job_df.copy()\n",
        "job"
      ],
      "execution_count": null,
      "outputs": [
        {
          "output_type": "execute_result",
          "data": {
            "text/html": [
              "<div>\n",
              "<style scoped>\n",
              "    .dataframe tbody tr th:only-of-type {\n",
              "        vertical-align: middle;\n",
              "    }\n",
              "\n",
              "    .dataframe tbody tr th {\n",
              "        vertical-align: top;\n",
              "    }\n",
              "\n",
              "    .dataframe thead th {\n",
              "        text-align: right;\n",
              "    }\n",
              "</style>\n",
              "<table border=\"1\" class=\"dataframe\">\n",
              "  <thead>\n",
              "    <tr style=\"text-align: right;\">\n",
              "      <th></th>\n",
              "      <th>job_id</th>\n",
              "      <th>job_title</th>\n",
              "      <th>keywords</th>\n",
              "      <th>minimum_experience_in_years</th>\n",
              "      <th>maximum_experience_in_years</th>\n",
              "      <th>minimum_annual_salary</th>\n",
              "      <th>maximum_annual_salary</th>\n",
              "      <th>currency</th>\n",
              "      <th>must_haves</th>\n",
              "      <th>company_name</th>\n",
              "      <th>founded_year</th>\n",
              "      <th>employee_count</th>\n",
              "      <th>job_location</th>\n",
              "      <th>industry</th>\n",
              "      <th>function</th>\n",
              "      <th>required_education_(ug)</th>\n",
              "      <th>required_education_(pg)</th>\n",
              "      <th>notice_period_(days)</th>\n",
              "    </tr>\n",
              "  </thead>\n",
              "  <tbody>\n",
              "    <tr>\n",
              "      <th>0</th>\n",
              "      <td>194</td>\n",
              "      <td>Full stack engineer</td>\n",
              "      <td>java,Angular,Jquery,j2ee,microservices,micro s...</td>\n",
              "      <td>2</td>\n",
              "      <td>5</td>\n",
              "      <td>6</td>\n",
              "      <td>15</td>\n",
              "      <td>INR</td>\n",
              "      <td>NaN</td>\n",
              "      <td>Company X</td>\n",
              "      <td>2011</td>\n",
              "      <td>362</td>\n",
              "      <td>Hyderabad</td>\n",
              "      <td>IT | Computer Software</td>\n",
              "      <td>IT Software</td>\n",
              "      <td>B.Tech/B.E.</td>\n",
              "      <td>Not Required</td>\n",
              "      <td>60</td>\n",
              "    </tr>\n",
              "    <tr>\n",
              "      <th>1</th>\n",
              "      <td>481</td>\n",
              "      <td>Senior Java Engineer/Tech Lead</td>\n",
              "      <td>J2EE,Java,Hibernate,Webervices,REST Services,S...</td>\n",
              "      <td>7</td>\n",
              "      <td>10</td>\n",
              "      <td>10</td>\n",
              "      <td>15</td>\n",
              "      <td>INR</td>\n",
              "      <td>Should have proficient Java server side progra...</td>\n",
              "      <td>Company X</td>\n",
              "      <td>2011</td>\n",
              "      <td>362</td>\n",
              "      <td>Hyderabad</td>\n",
              "      <td>IT | Computer Software</td>\n",
              "      <td>IT Software</td>\n",
              "      <td>Other UG</td>\n",
              "      <td>Not Required</td>\n",
              "      <td>30</td>\n",
              "    </tr>\n",
              "    <tr>\n",
              "      <th>2</th>\n",
              "      <td>839</td>\n",
              "      <td>Front End Developer</td>\n",
              "      <td>html,javascript,jquery,javascrit,css,bootstrap...</td>\n",
              "      <td>2</td>\n",
              "      <td>5</td>\n",
              "      <td>4</td>\n",
              "      <td>8</td>\n",
              "      <td>INR</td>\n",
              "      <td>The candidate must have at least 2 years of so...</td>\n",
              "      <td>Company X</td>\n",
              "      <td>2011</td>\n",
              "      <td>362</td>\n",
              "      <td>Bengaluru/Bangalore</td>\n",
              "      <td>IT | Information Technology and Services</td>\n",
              "      <td>IT Software</td>\n",
              "      <td>Undergraduate (engineering)</td>\n",
              "      <td>Not Required</td>\n",
              "      <td>30</td>\n",
              "    </tr>\n",
              "    <tr>\n",
              "      <th>3</th>\n",
              "      <td>723</td>\n",
              "      <td>Application Developer</td>\n",
              "      <td>c#, asp.net, sql, java, html5</td>\n",
              "      <td>3</td>\n",
              "      <td>8</td>\n",
              "      <td>4</td>\n",
              "      <td>9</td>\n",
              "      <td>INR</td>\n",
              "      <td>The Application Developer is a role within the...</td>\n",
              "      <td>Company X</td>\n",
              "      <td>2011</td>\n",
              "      <td>362</td>\n",
              "      <td>Bengaluru</td>\n",
              "      <td>IT | Information Technology and Services</td>\n",
              "      <td>IT Software</td>\n",
              "      <td>B.Tech/B.E.</td>\n",
              "      <td>Not Required</td>\n",
              "      <td>30</td>\n",
              "    </tr>\n",
              "  </tbody>\n",
              "</table>\n",
              "</div>"
            ],
            "text/plain": [
              "   job_id                       job_title  \\\n",
              "0     194             Full stack engineer   \n",
              "1     481  Senior Java Engineer/Tech Lead   \n",
              "2     839             Front End Developer   \n",
              "3     723           Application Developer   \n",
              "\n",
              "                                            keywords  \\\n",
              "0  java,Angular,Jquery,j2ee,microservices,micro s...   \n",
              "1  J2EE,Java,Hibernate,Webervices,REST Services,S...   \n",
              "2  html,javascript,jquery,javascrit,css,bootstrap...   \n",
              "3                      c#, asp.net, sql, java, html5   \n",
              "\n",
              "   minimum_experience_in_years  maximum_experience_in_years  \\\n",
              "0                            2                            5   \n",
              "1                            7                           10   \n",
              "2                            2                            5   \n",
              "3                            3                            8   \n",
              "\n",
              "   minimum_annual_salary  maximum_annual_salary currency  \\\n",
              "0                      6                     15      INR   \n",
              "1                     10                     15      INR   \n",
              "2                      4                      8      INR   \n",
              "3                      4                      9      INR   \n",
              "\n",
              "                                          must_haves company_name  \\\n",
              "0                                                NaN    Company X   \n",
              "1  Should have proficient Java server side progra...    Company X   \n",
              "2  The candidate must have at least 2 years of so...    Company X   \n",
              "3  The Application Developer is a role within the...    Company X   \n",
              "\n",
              "   founded_year  employee_count         job_location  \\\n",
              "0          2011             362            Hyderabad   \n",
              "1          2011             362            Hyderabad   \n",
              "2          2011             362  Bengaluru/Bangalore   \n",
              "3          2011             362           Bengaluru    \n",
              "\n",
              "                                   industry     function  \\\n",
              "0                    IT | Computer Software  IT Software   \n",
              "1                    IT | Computer Software  IT Software   \n",
              "2  IT | Information Technology and Services  IT Software   \n",
              "3  IT | Information Technology and Services  IT Software   \n",
              "\n",
              "       required_education_(ug) required_education_(pg)  notice_period_(days)  \n",
              "0                  B.Tech/B.E.            Not Required                    60  \n",
              "1                     Other UG            Not Required                    30  \n",
              "2  Undergraduate (engineering)            Not Required                    30  \n",
              "3                  B.Tech/B.E.            Not Required                    30  "
            ]
          },
          "metadata": {
            "tags": []
          },
          "execution_count": 11
        }
      ]
    },
    {
      "cell_type": "code",
      "metadata": {
        "id": "MreqTElBq2Uq"
      },
      "source": [
        "# Now we can merge the text data columns to make their processing simpler\n",
        "job['job_details'] = job[['keywords','currency','must_haves','job_location',\n",
        "                           'industry','function','required_education_(ug)',]].values.tolist()"
      ],
      "execution_count": null,
      "outputs": []
    },
    {
      "cell_type": "code",
      "metadata": {
        "id": "fBCgMOozq2Ut"
      },
      "source": [
        "# We then drop these columns\n",
        "job = job.drop(['keywords','currency','must_haves','job_location',\n",
        "                'industry','function','required_education_(ug)'], axis=1)"
      ],
      "execution_count": null,
      "outputs": []
    },
    {
      "cell_type": "code",
      "metadata": {
        "id": "H6ja-nbYq2Uv",
        "outputId": "9cb3fdc1-54f2-4452-bbd7-09b3257cf1ff"
      },
      "source": [
        "# Creating a separate dataframe with the numerical information\n",
        "job_numerical_df = job.drop(['job_title', 'company_name', 'required_education_(pg)',\n",
        "                                     'job_details'], axis = 1)\n",
        "job_numerical_df"
      ],
      "execution_count": null,
      "outputs": [
        {
          "output_type": "execute_result",
          "data": {
            "text/html": [
              "<div>\n",
              "<style scoped>\n",
              "    .dataframe tbody tr th:only-of-type {\n",
              "        vertical-align: middle;\n",
              "    }\n",
              "\n",
              "    .dataframe tbody tr th {\n",
              "        vertical-align: top;\n",
              "    }\n",
              "\n",
              "    .dataframe thead th {\n",
              "        text-align: right;\n",
              "    }\n",
              "</style>\n",
              "<table border=\"1\" class=\"dataframe\">\n",
              "  <thead>\n",
              "    <tr style=\"text-align: right;\">\n",
              "      <th></th>\n",
              "      <th>job_id</th>\n",
              "      <th>minimum_experience_in_years</th>\n",
              "      <th>maximum_experience_in_years</th>\n",
              "      <th>minimum_annual_salary</th>\n",
              "      <th>maximum_annual_salary</th>\n",
              "      <th>founded_year</th>\n",
              "      <th>employee_count</th>\n",
              "      <th>notice_period_(days)</th>\n",
              "    </tr>\n",
              "  </thead>\n",
              "  <tbody>\n",
              "    <tr>\n",
              "      <th>0</th>\n",
              "      <td>194</td>\n",
              "      <td>2</td>\n",
              "      <td>5</td>\n",
              "      <td>6</td>\n",
              "      <td>15</td>\n",
              "      <td>2011</td>\n",
              "      <td>362</td>\n",
              "      <td>60</td>\n",
              "    </tr>\n",
              "    <tr>\n",
              "      <th>1</th>\n",
              "      <td>481</td>\n",
              "      <td>7</td>\n",
              "      <td>10</td>\n",
              "      <td>10</td>\n",
              "      <td>15</td>\n",
              "      <td>2011</td>\n",
              "      <td>362</td>\n",
              "      <td>30</td>\n",
              "    </tr>\n",
              "    <tr>\n",
              "      <th>2</th>\n",
              "      <td>839</td>\n",
              "      <td>2</td>\n",
              "      <td>5</td>\n",
              "      <td>4</td>\n",
              "      <td>8</td>\n",
              "      <td>2011</td>\n",
              "      <td>362</td>\n",
              "      <td>30</td>\n",
              "    </tr>\n",
              "    <tr>\n",
              "      <th>3</th>\n",
              "      <td>723</td>\n",
              "      <td>3</td>\n",
              "      <td>8</td>\n",
              "      <td>4</td>\n",
              "      <td>9</td>\n",
              "      <td>2011</td>\n",
              "      <td>362</td>\n",
              "      <td>30</td>\n",
              "    </tr>\n",
              "  </tbody>\n",
              "</table>\n",
              "</div>"
            ],
            "text/plain": [
              "   job_id  minimum_experience_in_years  maximum_experience_in_years  \\\n",
              "0     194                            2                            5   \n",
              "1     481                            7                           10   \n",
              "2     839                            2                            5   \n",
              "3     723                            3                            8   \n",
              "\n",
              "   minimum_annual_salary  maximum_annual_salary  founded_year  employee_count  \\\n",
              "0                      6                     15          2011             362   \n",
              "1                     10                     15          2011             362   \n",
              "2                      4                      8          2011             362   \n",
              "3                      4                      9          2011             362   \n",
              "\n",
              "   notice_period_(days)  \n",
              "0                    60  \n",
              "1                    30  \n",
              "2                    30  \n",
              "3                    30  "
            ]
          },
          "metadata": {
            "tags": []
          },
          "execution_count": 14
        }
      ]
    },
    {
      "cell_type": "code",
      "metadata": {
        "id": "2RLoQSUkq2Uy",
        "outputId": "a914d088-c067-48fc-fb50-571c94b342e7"
      },
      "source": [
        "# Now lets drop the columns that are unnecessary for our analysis\n",
        "job = job.drop(['minimum_experience_in_years','maximum_experience_in_years',\n",
        "                'minimum_annual_salary','maximum_annual_salary',\n",
        "                'company_name','founded_year','employee_count',\n",
        "                'required_education_(pg)','notice_period_(days)'], axis=1)\n",
        "job"
      ],
      "execution_count": null,
      "outputs": [
        {
          "output_type": "execute_result",
          "data": {
            "text/html": [
              "<div>\n",
              "<style scoped>\n",
              "    .dataframe tbody tr th:only-of-type {\n",
              "        vertical-align: middle;\n",
              "    }\n",
              "\n",
              "    .dataframe tbody tr th {\n",
              "        vertical-align: top;\n",
              "    }\n",
              "\n",
              "    .dataframe thead th {\n",
              "        text-align: right;\n",
              "    }\n",
              "</style>\n",
              "<table border=\"1\" class=\"dataframe\">\n",
              "  <thead>\n",
              "    <tr style=\"text-align: right;\">\n",
              "      <th></th>\n",
              "      <th>job_id</th>\n",
              "      <th>job_title</th>\n",
              "      <th>job_details</th>\n",
              "    </tr>\n",
              "  </thead>\n",
              "  <tbody>\n",
              "    <tr>\n",
              "      <th>0</th>\n",
              "      <td>194</td>\n",
              "      <td>Full stack engineer</td>\n",
              "      <td>[java,Angular,Jquery,j2ee,microservices,micro ...</td>\n",
              "    </tr>\n",
              "    <tr>\n",
              "      <th>1</th>\n",
              "      <td>481</td>\n",
              "      <td>Senior Java Engineer/Tech Lead</td>\n",
              "      <td>[J2EE,Java,Hibernate,Webervices,REST Services,...</td>\n",
              "    </tr>\n",
              "    <tr>\n",
              "      <th>2</th>\n",
              "      <td>839</td>\n",
              "      <td>Front End Developer</td>\n",
              "      <td>[html,javascript,jquery,javascrit,css,bootstra...</td>\n",
              "    </tr>\n",
              "    <tr>\n",
              "      <th>3</th>\n",
              "      <td>723</td>\n",
              "      <td>Application Developer</td>\n",
              "      <td>[c#, asp.net, sql, java, html5, INR, The Appli...</td>\n",
              "    </tr>\n",
              "  </tbody>\n",
              "</table>\n",
              "</div>"
            ],
            "text/plain": [
              "   job_id                       job_title  \\\n",
              "0     194             Full stack engineer   \n",
              "1     481  Senior Java Engineer/Tech Lead   \n",
              "2     839             Front End Developer   \n",
              "3     723           Application Developer   \n",
              "\n",
              "                                         job_details  \n",
              "0  [java,Angular,Jquery,j2ee,microservices,micro ...  \n",
              "1  [J2EE,Java,Hibernate,Webervices,REST Services,...  \n",
              "2  [html,javascript,jquery,javascrit,css,bootstra...  \n",
              "3  [c#, asp.net, sql, java, html5, INR, The Appli...  "
            ]
          },
          "metadata": {
            "tags": []
          },
          "execution_count": 15
        }
      ]
    },
    {
      "cell_type": "code",
      "metadata": {
        "id": "Jd5z1oFSq2U0",
        "outputId": "248b781c-07e8-469d-c2f3-1046e11124ba"
      },
      "source": [
        "# Cleaning up the job_details column a little further\n",
        "job['details'] = (\n",
        " pd.DataFrame(job['job_details'].tolist())\n",
        "   .fillna('')\n",
        "   .astype(str)\n",
        "   .agg(','.join, 1)\n",
        "   .str.replace(',', ' ')\n",
        ")\n",
        "job"
      ],
      "execution_count": null,
      "outputs": [
        {
          "output_type": "execute_result",
          "data": {
            "text/html": [
              "<div>\n",
              "<style scoped>\n",
              "    .dataframe tbody tr th:only-of-type {\n",
              "        vertical-align: middle;\n",
              "    }\n",
              "\n",
              "    .dataframe tbody tr th {\n",
              "        vertical-align: top;\n",
              "    }\n",
              "\n",
              "    .dataframe thead th {\n",
              "        text-align: right;\n",
              "    }\n",
              "</style>\n",
              "<table border=\"1\" class=\"dataframe\">\n",
              "  <thead>\n",
              "    <tr style=\"text-align: right;\">\n",
              "      <th></th>\n",
              "      <th>job_id</th>\n",
              "      <th>job_title</th>\n",
              "      <th>job_details</th>\n",
              "      <th>details</th>\n",
              "    </tr>\n",
              "  </thead>\n",
              "  <tbody>\n",
              "    <tr>\n",
              "      <th>0</th>\n",
              "      <td>194</td>\n",
              "      <td>Full stack engineer</td>\n",
              "      <td>[java,Angular,Jquery,j2ee,microservices,micro ...</td>\n",
              "      <td>java Angular Jquery j2ee microservices micro s...</td>\n",
              "    </tr>\n",
              "    <tr>\n",
              "      <th>1</th>\n",
              "      <td>481</td>\n",
              "      <td>Senior Java Engineer/Tech Lead</td>\n",
              "      <td>[J2EE,Java,Hibernate,Webervices,REST Services,...</td>\n",
              "      <td>J2EE Java Hibernate Webervices REST Services S...</td>\n",
              "    </tr>\n",
              "    <tr>\n",
              "      <th>2</th>\n",
              "      <td>839</td>\n",
              "      <td>Front End Developer</td>\n",
              "      <td>[html,javascript,jquery,javascrit,css,bootstra...</td>\n",
              "      <td>html javascript jquery javascrit css bootstrap...</td>\n",
              "    </tr>\n",
              "    <tr>\n",
              "      <th>3</th>\n",
              "      <td>723</td>\n",
              "      <td>Application Developer</td>\n",
              "      <td>[c#, asp.net, sql, java, html5, INR, The Appli...</td>\n",
              "      <td>c#  asp.net  sql  java  html5 INR The Applicat...</td>\n",
              "    </tr>\n",
              "  </tbody>\n",
              "</table>\n",
              "</div>"
            ],
            "text/plain": [
              "   job_id                       job_title  \\\n",
              "0     194             Full stack engineer   \n",
              "1     481  Senior Java Engineer/Tech Lead   \n",
              "2     839             Front End Developer   \n",
              "3     723           Application Developer   \n",
              "\n",
              "                                         job_details  \\\n",
              "0  [java,Angular,Jquery,j2ee,microservices,micro ...   \n",
              "1  [J2EE,Java,Hibernate,Webervices,REST Services,...   \n",
              "2  [html,javascript,jquery,javascrit,css,bootstra...   \n",
              "3  [c#, asp.net, sql, java, html5, INR, The Appli...   \n",
              "\n",
              "                                             details  \n",
              "0  java Angular Jquery j2ee microservices micro s...  \n",
              "1  J2EE Java Hibernate Webervices REST Services S...  \n",
              "2  html javascript jquery javascrit css bootstrap...  \n",
              "3  c#  asp.net  sql  java  html5 INR The Applicat...  "
            ]
          },
          "metadata": {
            "tags": []
          },
          "execution_count": 16
        }
      ]
    },
    {
      "cell_type": "code",
      "metadata": {
        "id": "6mmtsgqIq2U2",
        "outputId": "abc392e2-d542-4d0c-dc11-914e1c1217a2"
      },
      "source": [
        "job = job.drop(['job_details'], axis=1)\n",
        "job"
      ],
      "execution_count": null,
      "outputs": [
        {
          "output_type": "execute_result",
          "data": {
            "text/html": [
              "<div>\n",
              "<style scoped>\n",
              "    .dataframe tbody tr th:only-of-type {\n",
              "        vertical-align: middle;\n",
              "    }\n",
              "\n",
              "    .dataframe tbody tr th {\n",
              "        vertical-align: top;\n",
              "    }\n",
              "\n",
              "    .dataframe thead th {\n",
              "        text-align: right;\n",
              "    }\n",
              "</style>\n",
              "<table border=\"1\" class=\"dataframe\">\n",
              "  <thead>\n",
              "    <tr style=\"text-align: right;\">\n",
              "      <th></th>\n",
              "      <th>job_id</th>\n",
              "      <th>job_title</th>\n",
              "      <th>details</th>\n",
              "    </tr>\n",
              "  </thead>\n",
              "  <tbody>\n",
              "    <tr>\n",
              "      <th>0</th>\n",
              "      <td>194</td>\n",
              "      <td>Full stack engineer</td>\n",
              "      <td>java Angular Jquery j2ee microservices micro s...</td>\n",
              "    </tr>\n",
              "    <tr>\n",
              "      <th>1</th>\n",
              "      <td>481</td>\n",
              "      <td>Senior Java Engineer/Tech Lead</td>\n",
              "      <td>J2EE Java Hibernate Webervices REST Services S...</td>\n",
              "    </tr>\n",
              "    <tr>\n",
              "      <th>2</th>\n",
              "      <td>839</td>\n",
              "      <td>Front End Developer</td>\n",
              "      <td>html javascript jquery javascrit css bootstrap...</td>\n",
              "    </tr>\n",
              "    <tr>\n",
              "      <th>3</th>\n",
              "      <td>723</td>\n",
              "      <td>Application Developer</td>\n",
              "      <td>c#  asp.net  sql  java  html5 INR The Applicat...</td>\n",
              "    </tr>\n",
              "  </tbody>\n",
              "</table>\n",
              "</div>"
            ],
            "text/plain": [
              "   job_id                       job_title  \\\n",
              "0     194             Full stack engineer   \n",
              "1     481  Senior Java Engineer/Tech Lead   \n",
              "2     839             Front End Developer   \n",
              "3     723           Application Developer   \n",
              "\n",
              "                                             details  \n",
              "0  java Angular Jquery j2ee microservices micro s...  \n",
              "1  J2EE Java Hibernate Webervices REST Services S...  \n",
              "2  html javascript jquery javascrit css bootstrap...  \n",
              "3  c#  asp.net  sql  java  html5 INR The Applicat...  "
            ]
          },
          "metadata": {
            "tags": []
          },
          "execution_count": 17
        }
      ]
    },
    {
      "cell_type": "markdown",
      "metadata": {
        "id": "dD5ym1tVq2U5"
      },
      "source": [
        "#### Processing the candidates dataframe"
      ]
    },
    {
      "cell_type": "code",
      "metadata": {
        "id": "NuMkNu65q2U6",
        "outputId": "ea1fe5d4-cef4-4530-8e6b-d6cec82fc135"
      },
      "source": [
        "# We'll generally take the same steps we carried out for the job_details dataframe\n",
        "# First Let's preview the top o the dataframe\n",
        "candidates_df.head()"
      ],
      "execution_count": null,
      "outputs": [
        {
          "output_type": "execute_result",
          "data": {
            "text/html": [
              "<div>\n",
              "<style scoped>\n",
              "    .dataframe tbody tr th:only-of-type {\n",
              "        vertical-align: middle;\n",
              "    }\n",
              "\n",
              "    .dataframe tbody tr th {\n",
              "        vertical-align: top;\n",
              "    }\n",
              "\n",
              "    .dataframe thead th {\n",
              "        text-align: right;\n",
              "    }\n",
              "</style>\n",
              "<table border=\"1\" class=\"dataframe\">\n",
              "  <thead>\n",
              "    <tr style=\"text-align: right;\">\n",
              "      <th></th>\n",
              "      <th>candidate_id</th>\n",
              "      <th>location</th>\n",
              "      <th>current_annual_salary</th>\n",
              "      <th>current_salary_currency_</th>\n",
              "      <th>current_salary_type</th>\n",
              "      <th>expected_annual_salary</th>\n",
              "      <th>expected_salary_currency</th>\n",
              "      <th>total_experience_in_years</th>\n",
              "      <th>current_industry</th>\n",
              "      <th>current_fuction</th>\n",
              "      <th>relocation_cities_</th>\n",
              "      <th>notice_period_in_days</th>\n",
              "      <th>current_job_title</th>\n",
              "      <th>data_source</th>\n",
              "    </tr>\n",
              "  </thead>\n",
              "  <tbody>\n",
              "    <tr>\n",
              "      <th>0</th>\n",
              "      <td>A13380</td>\n",
              "      <td>NCR</td>\n",
              "      <td>NaN</td>\n",
              "      <td>NaN</td>\n",
              "      <td>ANNUAL</td>\n",
              "      <td>60.0</td>\n",
              "      <td>INR</td>\n",
              "      <td>9.00</td>\n",
              "      <td>Banking,Financial Services,Broking</td>\n",
              "      <td>NaN</td>\n",
              "      <td>NaN</td>\n",
              "      <td>NaN</td>\n",
              "      <td>Team Manager Insurance</td>\n",
              "      <td>INDEED.COM</td>\n",
              "    </tr>\n",
              "    <tr>\n",
              "      <th>1</th>\n",
              "      <td>A9339</td>\n",
              "      <td>Vadodara</td>\n",
              "      <td>8.0</td>\n",
              "      <td>INR</td>\n",
              "      <td>ANNUAL</td>\n",
              "      <td>8.0</td>\n",
              "      <td>INR</td>\n",
              "      <td>3.00</td>\n",
              "      <td>Energy and Utilities | Telecommunications#Manu...</td>\n",
              "      <td>Business Development#Manufacturing#Project Man...</td>\n",
              "      <td>NaN</td>\n",
              "      <td>30.0</td>\n",
              "      <td>Marketing Executive</td>\n",
              "      <td>INTERNAL DATABASE</td>\n",
              "    </tr>\n",
              "    <tr>\n",
              "      <th>2</th>\n",
              "      <td>A10220</td>\n",
              "      <td>Noida</td>\n",
              "      <td>11.0</td>\n",
              "      <td>INR</td>\n",
              "      <td>ANNUAL</td>\n",
              "      <td>11.0</td>\n",
              "      <td>INR</td>\n",
              "      <td>0.70</td>\n",
              "      <td>IT | Computer Software#Manufacturing | Mechani...</td>\n",
              "      <td>IT Software</td>\n",
              "      <td>NaN</td>\n",
              "      <td>90.0</td>\n",
              "      <td>Software Developer</td>\n",
              "      <td>INTERNAL DATABASE</td>\n",
              "    </tr>\n",
              "    <tr>\n",
              "      <th>3</th>\n",
              "      <td>A8162</td>\n",
              "      <td>Hyderabad</td>\n",
              "      <td>8.0</td>\n",
              "      <td>INR</td>\n",
              "      <td>ANNUAL</td>\n",
              "      <td>8.0</td>\n",
              "      <td>INR</td>\n",
              "      <td>3.84</td>\n",
              "      <td>IT | Information Services, IT | Computer Software</td>\n",
              "      <td>Business Development, IT Software</td>\n",
              "      <td>NaN</td>\n",
              "      <td>90.0</td>\n",
              "      <td>Senior systems engineer</td>\n",
              "      <td>LINKEDIN</td>\n",
              "    </tr>\n",
              "    <tr>\n",
              "      <th>4</th>\n",
              "      <td>A13729</td>\n",
              "      <td>Hyderabad</td>\n",
              "      <td>9.6</td>\n",
              "      <td>NaN</td>\n",
              "      <td>ANNUAL</td>\n",
              "      <td>11.0</td>\n",
              "      <td>INR</td>\n",
              "      <td>2.50</td>\n",
              "      <td>IT | Computer Software</td>\n",
              "      <td>IT Software#Research</td>\n",
              "      <td>NaN</td>\n",
              "      <td>30.0</td>\n",
              "      <td>Software Developer</td>\n",
              "      <td>LINKEDIN</td>\n",
              "    </tr>\n",
              "  </tbody>\n",
              "</table>\n",
              "</div>"
            ],
            "text/plain": [
              "  candidate_id   location  current_annual_salary current_salary_currency_  \\\n",
              "0       A13380        NCR                    NaN                      NaN   \n",
              "1        A9339   Vadodara                    8.0                      INR   \n",
              "2       A10220      Noida                   11.0                      INR   \n",
              "3        A8162  Hyderabad                    8.0                      INR   \n",
              "4       A13729  Hyderabad                    9.6                      NaN   \n",
              "\n",
              "  current_salary_type  expected_annual_salary expected_salary_currency  \\\n",
              "0              ANNUAL                    60.0                      INR   \n",
              "1              ANNUAL                     8.0                      INR   \n",
              "2              ANNUAL                    11.0                      INR   \n",
              "3              ANNUAL                     8.0                      INR   \n",
              "4              ANNUAL                    11.0                      INR   \n",
              "\n",
              "   total_experience_in_years  \\\n",
              "0                       9.00   \n",
              "1                       3.00   \n",
              "2                       0.70   \n",
              "3                       3.84   \n",
              "4                       2.50   \n",
              "\n",
              "                                    current_industry  \\\n",
              "0                 Banking,Financial Services,Broking   \n",
              "1  Energy and Utilities | Telecommunications#Manu...   \n",
              "2  IT | Computer Software#Manufacturing | Mechani...   \n",
              "3  IT | Information Services, IT | Computer Software   \n",
              "4                             IT | Computer Software   \n",
              "\n",
              "                                     current_fuction relocation_cities_  \\\n",
              "0                                                NaN                NaN   \n",
              "1  Business Development#Manufacturing#Project Man...                NaN   \n",
              "2                                        IT Software                NaN   \n",
              "3                  Business Development, IT Software                NaN   \n",
              "4                               IT Software#Research                NaN   \n",
              "\n",
              "   notice_period_in_days        current_job_title        data_source  \n",
              "0                    NaN   Team Manager Insurance         INDEED.COM  \n",
              "1                   30.0      Marketing Executive  INTERNAL DATABASE  \n",
              "2                   90.0       Software Developer  INTERNAL DATABASE  \n",
              "3                   90.0  Senior systems engineer           LINKEDIN  \n",
              "4                   30.0       Software Developer           LINKEDIN  "
            ]
          },
          "metadata": {
            "tags": []
          },
          "execution_count": 18
        }
      ]
    },
    {
      "cell_type": "code",
      "metadata": {
        "id": "FVgb1Lvlq2U9"
      },
      "source": [
        "# We'll first create a copy of the dataframe\n",
        "candidates = candidates_df.copy()"
      ],
      "execution_count": null,
      "outputs": []
    },
    {
      "cell_type": "code",
      "metadata": {
        "id": "5OhAO1zvq2U_",
        "outputId": "d13937b3-a469-46bc-efbc-767bea084b5a"
      },
      "source": [
        "# Chaging 'monthly' to 'annual'\n",
        "a = candidates[candidates['current_salary_type']==\"MONTHLY\"]\n",
        "b = candidates[candidates['current_salary_type']!=\"MONTHLY\"]\n",
        "a.expected_annual_salary = a.expected_annual_salary *12\n",
        "dfs = [a, b]\n",
        "candidates = pd.concat(dfs)\n",
        "candidates.shape"
      ],
      "execution_count": null,
      "outputs": [
        {
          "output_type": "stream",
          "text": [
            "C:\\Users\\admin\\Anaconda3\\lib\\site-packages\\pandas\\core\\generic.py:5096: SettingWithCopyWarning: \n",
            "A value is trying to be set on a copy of a slice from a DataFrame.\n",
            "Try using .loc[row_indexer,col_indexer] = value instead\n",
            "\n",
            "See the caveats in the documentation: http://pandas.pydata.org/pandas-docs/stable/indexing.html#indexing-view-versus-copy\n",
            "  self[name] = value\n"
          ],
          "name": "stderr"
        },
        {
          "output_type": "execute_result",
          "data": {
            "text/plain": [
              "(7006, 14)"
            ]
          },
          "metadata": {
            "tags": []
          },
          "execution_count": 20
        }
      ]
    },
    {
      "cell_type": "code",
      "metadata": {
        "id": "_W6xjwkNq2VC",
        "outputId": "b8dc835e-444d-428f-ef25-144b5b0d1446"
      },
      "source": [
        "# Assuming present day exchange rate\n",
        "# converting ksh to inr\n",
        "a = candidates[candidates['current_salary_currency_']==\"KSH\"]\n",
        "b = candidates[candidates['current_salary_currency_']!=\"KSH\"]\n",
        "a.expected_annual_salary = a.expected_annual_salary *0.7\n",
        "dfs = [a, b]\n",
        "candidates = pd.concat(dfs)\n",
        "candidates.shape"
      ],
      "execution_count": null,
      "outputs": [
        {
          "output_type": "execute_result",
          "data": {
            "text/plain": [
              "(7006, 14)"
            ]
          },
          "metadata": {
            "tags": []
          },
          "execution_count": 21
        }
      ]
    },
    {
      "cell_type": "code",
      "metadata": {
        "id": "Zf5TXEmFq2VF",
        "outputId": "293bb131-7f2c-485d-d6b2-d20a9191a470"
      },
      "source": [
        "# converting usd to inr\n",
        "a = candidates[candidates['current_salary_currency_']==\"KSH\"]\n",
        "b = candidates[candidates['current_salary_currency_']!=\"KSH\"]\n",
        "a.expected_annual_salary = a.expected_annual_salary *0.7\n",
        "dfs = [a, b]\n",
        "candidates = pd.concat(dfs)\n",
        "candidates.shape"
      ],
      "execution_count": null,
      "outputs": [
        {
          "output_type": "execute_result",
          "data": {
            "text/plain": [
              "(7006, 14)"
            ]
          },
          "metadata": {
            "tags": []
          },
          "execution_count": 22
        }
      ]
    },
    {
      "cell_type": "code",
      "metadata": {
        "id": "rYkakWG-q2VH"
      },
      "source": [
        "# Merging the text data columns\n",
        "candidates['candidates_details'] = candidates[['location','current_industry',\n",
        "                        'current_fuction','current_job_title']].values.tolist()"
      ],
      "execution_count": null,
      "outputs": []
    },
    {
      "cell_type": "code",
      "metadata": {
        "id": "pehEk0CSq2VJ"
      },
      "source": [
        "# Dropping the merged columns\n",
        "candidates = candidates.drop(['location','current_industry',\n",
        "                        'current_fuction','current_job_title'], axis = 1)"
      ],
      "execution_count": null,
      "outputs": []
    },
    {
      "cell_type": "code",
      "metadata": {
        "id": "p4V3UMx0q2VM",
        "outputId": "2349e7d0-c26c-4005-b09c-17cfc6e07b6f"
      },
      "source": [
        "# Creating a dataframe with the candidates numerical info\n",
        "candidates_numerical_df = candidates.drop(['current_salary_currency_','current_salary_type', 'expected_salary_currency',\n",
        "                                          'relocation_cities_', 'data_source','candidates_details'], axis = 1)\n",
        "candidates_numerical_df.head()"
      ],
      "execution_count": null,
      "outputs": [
        {
          "output_type": "execute_result",
          "data": {
            "text/html": [
              "<div>\n",
              "<style scoped>\n",
              "    .dataframe tbody tr th:only-of-type {\n",
              "        vertical-align: middle;\n",
              "    }\n",
              "\n",
              "    .dataframe tbody tr th {\n",
              "        vertical-align: top;\n",
              "    }\n",
              "\n",
              "    .dataframe thead th {\n",
              "        text-align: right;\n",
              "    }\n",
              "</style>\n",
              "<table border=\"1\" class=\"dataframe\">\n",
              "  <thead>\n",
              "    <tr style=\"text-align: right;\">\n",
              "      <th></th>\n",
              "      <th>candidate_id</th>\n",
              "      <th>current_annual_salary</th>\n",
              "      <th>expected_annual_salary</th>\n",
              "      <th>total_experience_in_years</th>\n",
              "      <th>notice_period_in_days</th>\n",
              "    </tr>\n",
              "  </thead>\n",
              "  <tbody>\n",
              "    <tr>\n",
              "      <th>4164</th>\n",
              "      <td>A7700</td>\n",
              "      <td>18000.00</td>\n",
              "      <td>8820.0</td>\n",
              "      <td>4.35</td>\n",
              "      <td>90.0</td>\n",
              "    </tr>\n",
              "    <tr>\n",
              "      <th>20</th>\n",
              "      <td>A14341</td>\n",
              "      <td>36.00</td>\n",
              "      <td>504.0</td>\n",
              "      <td>2.40</td>\n",
              "      <td>15.0</td>\n",
              "    </tr>\n",
              "    <tr>\n",
              "      <th>470</th>\n",
              "      <td>A14378</td>\n",
              "      <td>0.00</td>\n",
              "      <td>0.0</td>\n",
              "      <td>1.00</td>\n",
              "      <td>0.0</td>\n",
              "    </tr>\n",
              "    <tr>\n",
              "      <th>1037</th>\n",
              "      <td>A14282</td>\n",
              "      <td>7.68</td>\n",
              "      <td>136.8</td>\n",
              "      <td>3.60</td>\n",
              "      <td>30.0</td>\n",
              "    </tr>\n",
              "    <tr>\n",
              "      <th>1100</th>\n",
              "      <td>A14136</td>\n",
              "      <td>936.00</td>\n",
              "      <td>21600.0</td>\n",
              "      <td>7.00</td>\n",
              "      <td>15.0</td>\n",
              "    </tr>\n",
              "  </tbody>\n",
              "</table>\n",
              "</div>"
            ],
            "text/plain": [
              "     candidate_id  current_annual_salary  expected_annual_salary  \\\n",
              "4164        A7700               18000.00                  8820.0   \n",
              "20         A14341                  36.00                   504.0   \n",
              "470        A14378                   0.00                     0.0   \n",
              "1037       A14282                   7.68                   136.8   \n",
              "1100       A14136                 936.00                 21600.0   \n",
              "\n",
              "      total_experience_in_years  notice_period_in_days  \n",
              "4164                       4.35                   90.0  \n",
              "20                         2.40                   15.0  \n",
              "470                        1.00                    0.0  \n",
              "1037                       3.60                   30.0  \n",
              "1100                       7.00                   15.0  "
            ]
          },
          "metadata": {
            "tags": []
          },
          "execution_count": 25
        }
      ]
    },
    {
      "cell_type": "code",
      "metadata": {
        "id": "A6Mx5swyq2VR",
        "outputId": "f78e2d86-dfa0-4d9c-9b77-f73f6cb25092"
      },
      "source": [
        "# Now let's drop the columns unnecessary for analysis\n",
        "candidates = candidates.drop(['current_annual_salary','current_salary_currency_','current_salary_type','expected_annual_salary',\n",
        "                              'expected_salary_currency','total_experience_in_years','relocation_cities_','notice_period_in_days',\n",
        "                              'data_source'], axis = 1)\n",
        "candidates.head()"
      ],
      "execution_count": null,
      "outputs": [
        {
          "output_type": "execute_result",
          "data": {
            "text/html": [
              "<div>\n",
              "<style scoped>\n",
              "    .dataframe tbody tr th:only-of-type {\n",
              "        vertical-align: middle;\n",
              "    }\n",
              "\n",
              "    .dataframe tbody tr th {\n",
              "        vertical-align: top;\n",
              "    }\n",
              "\n",
              "    .dataframe thead th {\n",
              "        text-align: right;\n",
              "    }\n",
              "</style>\n",
              "<table border=\"1\" class=\"dataframe\">\n",
              "  <thead>\n",
              "    <tr style=\"text-align: right;\">\n",
              "      <th></th>\n",
              "      <th>candidate_id</th>\n",
              "      <th>candidates_details</th>\n",
              "    </tr>\n",
              "  </thead>\n",
              "  <tbody>\n",
              "    <tr>\n",
              "      <th>4164</th>\n",
              "      <td>A7700</td>\n",
              "      <td>[bhubaneswar, IT | Computer &amp; Network Security...</td>\n",
              "    </tr>\n",
              "    <tr>\n",
              "      <th>20</th>\n",
              "      <td>A14341</td>\n",
              "      <td>[Vellore, IT | Information Technology and Serv...</td>\n",
              "    </tr>\n",
              "    <tr>\n",
              "      <th>470</th>\n",
              "      <td>A14378</td>\n",
              "      <td>[Achalpur, Ads, PR, Events | Events Services#A...</td>\n",
              "    </tr>\n",
              "    <tr>\n",
              "      <th>1037</th>\n",
              "      <td>A14282</td>\n",
              "      <td>[New Delhi, IT | Computer Software#IT | Inform...</td>\n",
              "    </tr>\n",
              "    <tr>\n",
              "      <th>1100</th>\n",
              "      <td>A14136</td>\n",
              "      <td>[Kakamega, IT | Computer Software#Entertainmen...</td>\n",
              "    </tr>\n",
              "  </tbody>\n",
              "</table>\n",
              "</div>"
            ],
            "text/plain": [
              "     candidate_id                                 candidates_details\n",
              "4164        A7700  [bhubaneswar, IT | Computer & Network Security...\n",
              "20         A14341  [Vellore, IT | Information Technology and Serv...\n",
              "470        A14378  [Achalpur, Ads, PR, Events | Events Services#A...\n",
              "1037       A14282  [New Delhi, IT | Computer Software#IT | Inform...\n",
              "1100       A14136  [Kakamega, IT | Computer Software#Entertainmen..."
            ]
          },
          "metadata": {
            "tags": []
          },
          "execution_count": 26
        }
      ]
    },
    {
      "cell_type": "code",
      "metadata": {
        "id": "GxcZY5QAq2VT",
        "outputId": "8ab4b179-b5cf-4298-ab82-95b968f9a517"
      },
      "source": [
        "# Cleaning up th details column\n",
        "candidates['details'] = (\n",
        " pd.DataFrame(candidates['candidates_details'].tolist())\n",
        "   .fillna('')\n",
        "   .astype(str)\n",
        "   .agg(','.join, 1)\n",
        "   .str.replace(',', ' ')\n",
        ")\n",
        "candidates.head()"
      ],
      "execution_count": null,
      "outputs": [
        {
          "output_type": "execute_result",
          "data": {
            "text/html": [
              "<div>\n",
              "<style scoped>\n",
              "    .dataframe tbody tr th:only-of-type {\n",
              "        vertical-align: middle;\n",
              "    }\n",
              "\n",
              "    .dataframe tbody tr th {\n",
              "        vertical-align: top;\n",
              "    }\n",
              "\n",
              "    .dataframe thead th {\n",
              "        text-align: right;\n",
              "    }\n",
              "</style>\n",
              "<table border=\"1\" class=\"dataframe\">\n",
              "  <thead>\n",
              "    <tr style=\"text-align: right;\">\n",
              "      <th></th>\n",
              "      <th>candidate_id</th>\n",
              "      <th>candidates_details</th>\n",
              "      <th>details</th>\n",
              "    </tr>\n",
              "  </thead>\n",
              "  <tbody>\n",
              "    <tr>\n",
              "      <th>4164</th>\n",
              "      <td>A7700</td>\n",
              "      <td>[bhubaneswar, IT | Computer &amp; Network Security...</td>\n",
              "      <td>Pune IT | Information Technology and Services ...</td>\n",
              "    </tr>\n",
              "    <tr>\n",
              "      <th>20</th>\n",
              "      <td>A14341</td>\n",
              "      <td>[Vellore, IT | Information Technology and Serv...</td>\n",
              "      <td>Gurgaon IT | Information Technology and Servic...</td>\n",
              "    </tr>\n",
              "    <tr>\n",
              "      <th>470</th>\n",
              "      <td>A14378</td>\n",
              "      <td>[Achalpur, Ads, PR, Events | Events Services#A...</td>\n",
              "      <td>Pune Entertainment  Media | Newspapers#Financi...</td>\n",
              "    </tr>\n",
              "    <tr>\n",
              "      <th>1037</th>\n",
              "      <td>A14282</td>\n",
              "      <td>[New Delhi, IT | Computer Software#IT | Inform...</td>\n",
              "      <td>Mumbai Consumer | Food &amp; Beverages#Consumer | ...</td>\n",
              "    </tr>\n",
              "    <tr>\n",
              "      <th>1100</th>\n",
              "      <td>A14136</td>\n",
              "      <td>[Kakamega, IT | Computer Software#Entertainmen...</td>\n",
              "      <td>Hyderabad IT | Computer Software IT Software S...</td>\n",
              "    </tr>\n",
              "  </tbody>\n",
              "</table>\n",
              "</div>"
            ],
            "text/plain": [
              "     candidate_id                                 candidates_details  \\\n",
              "4164        A7700  [bhubaneswar, IT | Computer & Network Security...   \n",
              "20         A14341  [Vellore, IT | Information Technology and Serv...   \n",
              "470        A14378  [Achalpur, Ads, PR, Events | Events Services#A...   \n",
              "1037       A14282  [New Delhi, IT | Computer Software#IT | Inform...   \n",
              "1100       A14136  [Kakamega, IT | Computer Software#Entertainmen...   \n",
              "\n",
              "                                                details  \n",
              "4164  Pune IT | Information Technology and Services ...  \n",
              "20    Gurgaon IT | Information Technology and Servic...  \n",
              "470   Pune Entertainment  Media | Newspapers#Financi...  \n",
              "1037  Mumbai Consumer | Food & Beverages#Consumer | ...  \n",
              "1100  Hyderabad IT | Computer Software IT Software S...  "
            ]
          },
          "metadata": {
            "tags": []
          },
          "execution_count": 27
        }
      ]
    },
    {
      "cell_type": "code",
      "metadata": {
        "id": "O7ScCwd_q2VV"
      },
      "source": [
        "# the final candidates dataframe\n",
        "candidates = candidates.drop(['candidates_details'], axis = 1)"
      ],
      "execution_count": null,
      "outputs": []
    },
    {
      "cell_type": "code",
      "metadata": {
        "id": "Eq_v-ce8q2VX",
        "outputId": "57134bb4-e917-4d57-cedd-c92ee5beee58"
      },
      "source": [
        "nltk.download('stopwords')\n",
        "nltk.download('punkt')\n",
        "nltk.download('wordnet')"
      ],
      "execution_count": null,
      "outputs": [
        {
          "output_type": "stream",
          "text": [
            "[nltk_data] Downloading package stopwords to\n",
            "[nltk_data]     C:\\Users\\admin\\AppData\\Roaming\\nltk_data...\n",
            "[nltk_data]   Package stopwords is already up-to-date!\n",
            "[nltk_data] Downloading package punkt to\n",
            "[nltk_data]     C:\\Users\\admin\\AppData\\Roaming\\nltk_data...\n",
            "[nltk_data]   Package punkt is already up-to-date!\n",
            "[nltk_data] Downloading package wordnet to\n",
            "[nltk_data]     C:\\Users\\admin\\AppData\\Roaming\\nltk_data...\n",
            "[nltk_data]   Package wordnet is already up-to-date!\n"
          ],
          "name": "stderr"
        },
        {
          "output_type": "execute_result",
          "data": {
            "text/plain": [
              "True"
            ]
          },
          "metadata": {
            "tags": []
          },
          "execution_count": 29
        }
      ]
    },
    {
      "cell_type": "code",
      "metadata": {
        "id": "aLbDfTkeq2Va"
      },
      "source": [
        "# Creating a function that cleans both 'details' column in the two dataframes\n",
        "\n",
        "stop = stopwords.words('english')\n",
        "stop_words_ = set(stopwords.words('english'))\n",
        "wn = WordNetLemmatizer()\n",
        "\n",
        "def tokenizer(token):\n",
        "    return  token not in stop_words_ and token not in list(string.punctuation)  and len(token)>2   \n",
        "  \n",
        "def processed_text(details):\n",
        "  clean_text = []\n",
        "  clean_text2 = []\n",
        "  details = re.sub(\"'\", \"\",details)\n",
        "  details=re.sub(\"(\\\\d|\\\\W)+\",\" \",details) \n",
        "  # details = details.replace(\"nbsp\", \"\")\n",
        "  clean_text = [wn.lemmatize(word, pos=\"n\") for word in word_tokenize(details.lower()) if tokenizer(word)]\n",
        "  clean_text2 = [word for word in clean_text if tokenizer(word)]\n",
        "  return \" \".join(clean_text2)"
      ],
      "execution_count": null,
      "outputs": []
    },
    {
      "cell_type": "code",
      "metadata": {
        "id": "2E0fOCgkq2Vd",
        "outputId": "c111c28d-34ff-4332-ff31-21e0f1b9e294"
      },
      "source": [
        "# Applying the function to the candidates dataframe\n",
        "candidates['details'] = candidates['details'].apply(processed_text)\n",
        "candidates.head()"
      ],
      "execution_count": null,
      "outputs": [
        {
          "output_type": "execute_result",
          "data": {
            "text/html": [
              "<div>\n",
              "<style scoped>\n",
              "    .dataframe tbody tr th:only-of-type {\n",
              "        vertical-align: middle;\n",
              "    }\n",
              "\n",
              "    .dataframe tbody tr th {\n",
              "        vertical-align: top;\n",
              "    }\n",
              "\n",
              "    .dataframe thead th {\n",
              "        text-align: right;\n",
              "    }\n",
              "</style>\n",
              "<table border=\"1\" class=\"dataframe\">\n",
              "  <thead>\n",
              "    <tr style=\"text-align: right;\">\n",
              "      <th></th>\n",
              "      <th>candidate_id</th>\n",
              "      <th>details</th>\n",
              "    </tr>\n",
              "  </thead>\n",
              "  <tbody>\n",
              "    <tr>\n",
              "      <th>4164</th>\n",
              "      <td>A7700</td>\n",
              "      <td>pune information technology service software p...</td>\n",
              "    </tr>\n",
              "    <tr>\n",
              "      <th>20</th>\n",
              "      <td>A14341</td>\n",
              "      <td>gurgaon information technology service softwar...</td>\n",
              "    </tr>\n",
              "    <tr>\n",
              "      <th>470</th>\n",
              "      <td>A14378</td>\n",
              "      <td>pune entertainment medium newspaper financial ...</td>\n",
              "    </tr>\n",
              "    <tr>\n",
              "      <th>1037</th>\n",
              "      <td>A14282</td>\n",
              "      <td>mumbai consumer food beverage consumer wine sp...</td>\n",
              "    </tr>\n",
              "    <tr>\n",
              "      <th>1100</th>\n",
              "      <td>A14136</td>\n",
              "      <td>hyderabad computer software software automation</td>\n",
              "    </tr>\n",
              "  </tbody>\n",
              "</table>\n",
              "</div>"
            ],
            "text/plain": [
              "     candidate_id                                            details\n",
              "4164        A7700  pune information technology service software p...\n",
              "20         A14341  gurgaon information technology service softwar...\n",
              "470        A14378  pune entertainment medium newspaper financial ...\n",
              "1037       A14282  mumbai consumer food beverage consumer wine sp...\n",
              "1100       A14136    hyderabad computer software software automation"
            ]
          },
          "metadata": {
            "tags": []
          },
          "execution_count": 31
        }
      ]
    },
    {
      "cell_type": "code",
      "metadata": {
        "id": "z9htx1uzq2Vg",
        "outputId": "306ff550-fadc-43c4-8d39-f370362c3491"
      },
      "source": [
        "# Applying the function to the job dataframe\n",
        "job['details'] = job['details'].apply(processed_text)\n",
        "job.head()"
      ],
      "execution_count": null,
      "outputs": [
        {
          "output_type": "execute_result",
          "data": {
            "text/html": [
              "<div>\n",
              "<style scoped>\n",
              "    .dataframe tbody tr th:only-of-type {\n",
              "        vertical-align: middle;\n",
              "    }\n",
              "\n",
              "    .dataframe tbody tr th {\n",
              "        vertical-align: top;\n",
              "    }\n",
              "\n",
              "    .dataframe thead th {\n",
              "        text-align: right;\n",
              "    }\n",
              "</style>\n",
              "<table border=\"1\" class=\"dataframe\">\n",
              "  <thead>\n",
              "    <tr style=\"text-align: right;\">\n",
              "      <th></th>\n",
              "      <th>job_id</th>\n",
              "      <th>job_title</th>\n",
              "      <th>details</th>\n",
              "    </tr>\n",
              "  </thead>\n",
              "  <tbody>\n",
              "    <tr>\n",
              "      <th>0</th>\n",
              "      <td>194</td>\n",
              "      <td>Full stack engineer</td>\n",
              "      <td>java angular jquery microservices micro servic...</td>\n",
              "    </tr>\n",
              "    <tr>\n",
              "      <th>1</th>\n",
              "      <td>481</td>\n",
              "      <td>Senior Java Engineer/Tech Lead</td>\n",
              "      <td>java hibernate webervices rest service spring ...</td>\n",
              "    </tr>\n",
              "    <tr>\n",
              "      <th>2</th>\n",
              "      <td>839</td>\n",
              "      <td>Front End Developer</td>\n",
              "      <td>html javascript jquery javascrit bootstrap ver...</td>\n",
              "    </tr>\n",
              "    <tr>\n",
              "      <th>3</th>\n",
              "      <td>723</td>\n",
              "      <td>Application Developer</td>\n",
              "      <td>asp net sql java html inr application develope...</td>\n",
              "    </tr>\n",
              "  </tbody>\n",
              "</table>\n",
              "</div>"
            ],
            "text/plain": [
              "   job_id                       job_title  \\\n",
              "0     194             Full stack engineer   \n",
              "1     481  Senior Java Engineer/Tech Lead   \n",
              "2     839             Front End Developer   \n",
              "3     723           Application Developer   \n",
              "\n",
              "                                             details  \n",
              "0  java angular jquery microservices micro servic...  \n",
              "1  java hibernate webervices rest service spring ...  \n",
              "2  html javascript jquery javascrit bootstrap ver...  \n",
              "3  asp net sql java html inr application develope...  "
            ]
          },
          "metadata": {
            "tags": []
          },
          "execution_count": 32
        }
      ]
    },
    {
      "cell_type": "markdown",
      "metadata": {
        "id": "q7-gGj4qq2Vi"
      },
      "source": [
        "#### Content based Recommender with tfidf"
      ]
    },
    {
      "cell_type": "code",
      "metadata": {
        "id": "iE1_Yt_4q2Vj",
        "outputId": "812a09f0-b2d2-4c44-ebd7-b152b6c117f5"
      },
      "source": [
        "# carrying out feature extraction using tfidf vectorizer\n",
        "\n",
        "from sklearn.feature_extraction.text import TfidfVectorizer\n",
        "tfidf = TfidfVectorizer()\n",
        "# \n",
        "job_tfidf = tfidf.fit_transform(job['details'])\n",
        "job_tfidf"
      ],
      "execution_count": null,
      "outputs": [
        {
          "output_type": "execute_result",
          "data": {
            "text/plain": [
              "<4x299 sparse matrix of type '<class 'numpy.float64'>'\n",
              "\twith 336 stored elements in Compressed Sparse Row format>"
            ]
          },
          "metadata": {
            "tags": []
          },
          "execution_count": 33
        }
      ]
    },
    {
      "cell_type": "code",
      "metadata": {
        "id": "BJ9cW9s4q2Vl",
        "outputId": "7aee04c8-4836-4da2-dd3c-35838b11ab94"
      },
      "source": [
        "# Performing feature extraction on the candidates dataframe\n",
        "candidates_tfidf = tfidf.transform(candidates['details'])\n",
        "candidates_tfidf"
      ],
      "execution_count": null,
      "outputs": [
        {
          "output_type": "execute_result",
          "data": {
            "text/plain": [
              "<7006x299 sparse matrix of type '<class 'numpy.float64'>'\n",
              "\twith 29569 stored elements in Compressed Sparse Row format>"
            ]
          },
          "metadata": {
            "tags": []
          },
          "execution_count": 34
        }
      ]
    },
    {
      "cell_type": "code",
      "metadata": {
        "id": "mLkVvAoYq2Vn"
      },
      "source": [
        "# Performing Cosine Similarity to measure how similar the two dataframes are\n",
        "# The idea here is that if the cosine is close to 1, the items are similar and \n",
        "# they are close to 0, they are not similar. In our case this will show us how \n",
        "# much a candidate matches to a particular job\n",
        "\n",
        "from sklearn.metrics.pairwise import cosine_similarity\n",
        "cs = cosine_similarity(candidates_tfidf, job_tfidf)\n",
        "# cs = map(lambda x: cosine_similarity(candidates_tfidf, x), job_tfidf)"
      ],
      "execution_count": null,
      "outputs": []
    },
    {
      "cell_type": "code",
      "metadata": {
        "id": "f61c5elWq2Vp",
        "outputId": "7ef11db4-a8a5-4bda-eb00-1e57bc4c72df"
      },
      "source": [
        "# Checking the shape of the final dataframe\n",
        "\n",
        "cs.shape"
      ],
      "execution_count": null,
      "outputs": [
        {
          "output_type": "execute_result",
          "data": {
            "text/plain": [
              "(7006, 4)"
            ]
          },
          "metadata": {
            "tags": []
          },
          "execution_count": 37
        }
      ]
    },
    {
      "cell_type": "code",
      "metadata": {
        "id": "H1H9-r-uq2Vs"
      },
      "source": [
        "cols=['Full stack engineer', 'Senior Java Engineer/Tech Lead', 'Front End Developer', 'Application Developer']"
      ],
      "execution_count": null,
      "outputs": []
    },
    {
      "cell_type": "code",
      "metadata": {
        "id": "vxM_nhB6q2Vu"
      },
      "source": [
        "# Creating a scores dataframe\n",
        "candidates_index = pd.Series(candidates.candidate_id)\n",
        "job_index = pd.Series(job.job_title)\n",
        "# \n",
        "scores_df = pd.DataFrame(cs, index = candidates_index, columns = job_index)\n",
        "scores_df.head()"
      ],
      "execution_count": null,
      "outputs": []
    },
    {
      "cell_type": "code",
      "metadata": {
        "id": "bhmFIqHJq2Vw",
        "outputId": "4072a76f-3e80-4d6f-93a3-0dbc725c0da5"
      },
      "source": [
        "# Checking the highest score in the 'full stack engineer' column\n",
        "scores_df['Full stack engineer'].max()"
      ],
      "execution_count": null,
      "outputs": [
        {
          "output_type": "execute_result",
          "data": {
            "text/plain": [
              "0.4626483336319382"
            ]
          },
          "metadata": {
            "tags": []
          },
          "execution_count": 39
        }
      ]
    },
    {
      "cell_type": "code",
      "metadata": {
        "id": "peH2H_WTq2Vz",
        "outputId": "59d03484-e44e-484f-f4e1-1cd23d4145b3"
      },
      "source": [
        "# Getting all the information of the above candidate\n",
        "\n",
        "scores_df[scores_df['Full stack engineer']== 0.4626483336319382]"
      ],
      "execution_count": null,
      "outputs": [
        {
          "output_type": "execute_result",
          "data": {
            "text/html": [
              "<div>\n",
              "<style scoped>\n",
              "    .dataframe tbody tr th:only-of-type {\n",
              "        vertical-align: middle;\n",
              "    }\n",
              "\n",
              "    .dataframe tbody tr th {\n",
              "        vertical-align: top;\n",
              "    }\n",
              "\n",
              "    .dataframe thead th {\n",
              "        text-align: right;\n",
              "    }\n",
              "</style>\n",
              "<table border=\"1\" class=\"dataframe\">\n",
              "  <thead>\n",
              "    <tr style=\"text-align: right;\">\n",
              "      <th>job_title</th>\n",
              "      <th>Full stack engineer</th>\n",
              "      <th>Senior Java Engineer/Tech Lead</th>\n",
              "      <th>Front End Developer</th>\n",
              "      <th>Application Developer</th>\n",
              "    </tr>\n",
              "    <tr>\n",
              "      <th>candidate_id</th>\n",
              "      <th></th>\n",
              "      <th></th>\n",
              "      <th></th>\n",
              "      <th></th>\n",
              "    </tr>\n",
              "  </thead>\n",
              "  <tbody>\n",
              "    <tr>\n",
              "      <th>A11923</th>\n",
              "      <td>0.462648</td>\n",
              "      <td>0.396634</td>\n",
              "      <td>0.15674</td>\n",
              "      <td>0.060786</td>\n",
              "    </tr>\n",
              "  </tbody>\n",
              "</table>\n",
              "</div>"
            ],
            "text/plain": [
              "job_title     Full stack engineer  Senior Java Engineer/Tech Lead  \\\n",
              "candidate_id                                                        \n",
              "A11923                   0.462648                        0.396634   \n",
              "\n",
              "job_title     Front End Developer  Application Developer  \n",
              "candidate_id                                              \n",
              "A11923                    0.15674               0.060786  "
            ]
          },
          "metadata": {
            "tags": []
          },
          "execution_count": 41
        }
      ]
    },
    {
      "cell_type": "code",
      "metadata": {
        "id": "rvWfbFePq2V3"
      },
      "source": [
        "# Let's save this dataframe in our local library\n",
        "scores_df.to_csv('Job_Compatibility_Scoring_System.csv')"
      ],
      "execution_count": null,
      "outputs": []
    },
    {
      "cell_type": "code",
      "metadata": {
        "id": "qsn-enn8q2V7",
        "outputId": "88781a17-c03e-4493-cfa2-06e6c7aa73b1"
      },
      "source": [
        "scores_columns"
      ],
      "execution_count": null,
      "outputs": [
        {
          "output_type": "execute_result",
          "data": {
            "text/plain": [
              "Index(['Full stack engineer', 'Senior Java Engineer/Tech Lead',\n",
              "       'Front End Developer', 'Application Developer'],\n",
              "      dtype='object', name='job_title')"
            ]
          },
          "metadata": {
            "tags": []
          },
          "execution_count": 49
        }
      ]
    },
    {
      "cell_type": "code",
      "metadata": {
        "id": "l3v956sJq2V-",
        "outputId": "a4637fb9-e84b-49b6-d858-bcceb7ed23b3"
      },
      "source": [
        "scores_df = pd.read_csv('Job_Compatibility_Scoring_System.csv')\n",
        "final_scores.head()"
      ],
      "execution_count": null,
      "outputs": [
        {
          "output_type": "execute_result",
          "data": {
            "text/html": [
              "<div>\n",
              "<style scoped>\n",
              "    .dataframe tbody tr th:only-of-type {\n",
              "        vertical-align: middle;\n",
              "    }\n",
              "\n",
              "    .dataframe tbody tr th {\n",
              "        vertical-align: top;\n",
              "    }\n",
              "\n",
              "    .dataframe thead th {\n",
              "        text-align: right;\n",
              "    }\n",
              "</style>\n",
              "<table border=\"1\" class=\"dataframe\">\n",
              "  <thead>\n",
              "    <tr style=\"text-align: right;\">\n",
              "      <th></th>\n",
              "      <th>candidate_id</th>\n",
              "      <th>Full stack engineer</th>\n",
              "      <th>Senior Java Engineer/Tech Lead</th>\n",
              "      <th>Front End Developer</th>\n",
              "      <th>Application Developer</th>\n",
              "    </tr>\n",
              "  </thead>\n",
              "  <tbody>\n",
              "    <tr>\n",
              "      <th>0</th>\n",
              "      <td>A7700</td>\n",
              "      <td>0.091284</td>\n",
              "      <td>0.067389</td>\n",
              "      <td>0.180828</td>\n",
              "      <td>0.217258</td>\n",
              "    </tr>\n",
              "    <tr>\n",
              "      <th>1</th>\n",
              "      <td>A14341</td>\n",
              "      <td>0.153216</td>\n",
              "      <td>0.113109</td>\n",
              "      <td>0.395087</td>\n",
              "      <td>0.297133</td>\n",
              "    </tr>\n",
              "    <tr>\n",
              "      <th>2</th>\n",
              "      <td>A14378</td>\n",
              "      <td>0.000000</td>\n",
              "      <td>0.000000</td>\n",
              "      <td>0.000000</td>\n",
              "      <td>0.236807</td>\n",
              "    </tr>\n",
              "    <tr>\n",
              "      <th>3</th>\n",
              "      <td>A14282</td>\n",
              "      <td>0.052986</td>\n",
              "      <td>0.039116</td>\n",
              "      <td>0.184134</td>\n",
              "      <td>0.295318</td>\n",
              "    </tr>\n",
              "    <tr>\n",
              "      <th>4</th>\n",
              "      <td>A14136</td>\n",
              "      <td>0.423694</td>\n",
              "      <td>0.312784</td>\n",
              "      <td>0.171151</td>\n",
              "      <td>0.041517</td>\n",
              "    </tr>\n",
              "  </tbody>\n",
              "</table>\n",
              "</div>"
            ],
            "text/plain": [
              "  candidate_id  Full stack engineer  Senior Java Engineer/Tech Lead  \\\n",
              "0        A7700             0.091284                        0.067389   \n",
              "1       A14341             0.153216                        0.113109   \n",
              "2       A14378             0.000000                        0.000000   \n",
              "3       A14282             0.052986                        0.039116   \n",
              "4       A14136             0.423694                        0.312784   \n",
              "\n",
              "   Front End Developer  Application Developer  \n",
              "0             0.180828               0.217258  \n",
              "1             0.395087               0.297133  \n",
              "2             0.000000               0.236807  \n",
              "3             0.184134               0.295318  \n",
              "4             0.171151               0.041517  "
            ]
          },
          "metadata": {
            "tags": []
          },
          "execution_count": 80
        }
      ]
    },
    {
      "cell_type": "code",
      "metadata": {
        "id": "ghTnqFcGq2WD",
        "outputId": "4bfeede0-c494-4cf6-b2c3-09aeedb7e995"
      },
      "source": [
        "for job in scores_columns:\n",
        "    a = scores_df[job].max()\n",
        "    print(a)"
      ],
      "execution_count": null,
      "outputs": [
        {
          "output_type": "stream",
          "text": [
            "0.4626483336319382\n",
            "0.4006775880620435\n",
            "0.48360476474282516\n",
            "0.4733804309944653\n"
          ],
          "name": "stdout"
        }
      ]
    },
    {
      "cell_type": "code",
      "metadata": {
        "id": "gpuWmsdgq2WF"
      },
      "source": [
        "def recommend(scores_columns):\n",
        "    for job in scores_columns:\n",
        "        a = scores_df[job].max()\n",
        "        print(job+':', a,':', 'Candidate ID', scores_df[scores_df[job]==a]['candidate_id'].values)"
      ],
      "execution_count": null,
      "outputs": []
    },
    {
      "cell_type": "code",
      "metadata": {
        "id": "8QajsSHjq2WI",
        "outputId": "3fa6dd9a-e68c-4ce2-c380-03eac79cd785"
      },
      "source": [
        "recommend(['Full stack engineer', 'Senior Java Engineer/Tech Lead', 'Front End Developer', 'Application Developer'])"
      ],
      "execution_count": null,
      "outputs": [
        {
          "output_type": "stream",
          "text": [
            "Full stack engineer: 0.4626483336319382 : Candidate ID ['A11923']\n",
            "Senior Java Engineer/Tech Lead: 0.4006775880620435 : Candidate ID ['A10693']\n",
            "Front End Developer: 0.4836047647428252 : Candidate ID ['A12003']\n",
            "Application Developer: 0.4733804309944653 : Candidate ID ['A11952']\n"
          ],
          "name": "stdout"
        }
      ]
    },
    {
      "cell_type": "code",
      "metadata": {
        "id": "Hy3TkFw9q2WL"
      },
      "source": [
        ""
      ],
      "execution_count": null,
      "outputs": []
    },
    {
      "cell_type": "code",
      "metadata": {
        "id": "Ig4cSTgHq2WN"
      },
      "source": [
        ""
      ],
      "execution_count": null,
      "outputs": []
    }
  ]
}